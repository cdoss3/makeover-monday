{
 "cells": [
  {
   "cell_type": "markdown",
   "id": "b4155941-415f-4549-b851-2faa08593dd5",
   "metadata": {},
   "source": [
    "# Makeover Monday Notebook\n",
    "### November 4, 2024\n",
    "\n",
    "*Part I - Data exploration*"
   ]
  },
  {
   "cell_type": "code",
   "execution_count": 1,
   "id": "683fd67e-382b-4aa1-867d-fcde8849aedb",
   "metadata": {},
   "outputs": [],
   "source": [
    "import os\n",
    "from os import path\n",
    "\n",
    "import matplotlib as mpl\n",
    "import polars as pl\n",
    "import matplotlib.pyplot as plt"
   ]
  },
  {
   "cell_type": "markdown",
   "id": "cb733df7-94c4-42ce-8464-a0a13c17935d",
   "metadata": {},
   "source": [
    "Convert xlsx to csv"
   ]
  },
  {
   "cell_type": "code",
   "execution_count": 2,
   "id": "8c15eaf0-fdf1-42ee-9cad-eed08db88099",
   "metadata": {},
   "outputs": [],
   "source": [
    "xl_file = pl.read_excel(path.join(os.getcwd(), 'data.xlsx'))\n",
    "xl_file.write_csv('./data.csv')"
   ]
  },
  {
   "cell_type": "code",
   "execution_count": 3,
   "id": "5863c521-7de9-4ce4-84a6-e9f2c1d80049",
   "metadata": {},
   "outputs": [
    {
     "name": "stdout",
     "output_type": "stream",
     "text": [
      "Country Name\n",
      "Country Code\n",
      "Indicator Name\n",
      "Indicator Code\n",
      "1990\n",
      "1991\n",
      "1992\n",
      "1993\n",
      "1994\n",
      "1995\n",
      "1996\n",
      "1997\n",
      "1998\n",
      "1999\n",
      "2000\n",
      "2001\n",
      "2002\n",
      "2003\n",
      "2004\n",
      "2005\n",
      "2006\n",
      "2007\n",
      "2008\n",
      "2009\n",
      "2010\n",
      "2011\n",
      "2012\n",
      "2013\n",
      "2014\n",
      "2015\n",
      "2016\n",
      "2017\n",
      "2018\n",
      "2019\n",
      "2020\n",
      "2021\n",
      "2022\n",
      "2023\n"
     ]
    }
   ],
   "source": [
    "df = pl.read_csv(path.join(os.getcwd(), 'data.csv'))\n",
    "\n",
    "for column in df.columns:\n",
    "    print(column)"
   ]
  },
  {
   "cell_type": "code",
   "execution_count": 4,
   "id": "33516148-824c-4360-9a1f-56904b2080bf",
   "metadata": {},
   "outputs": [
    {
     "data": {
      "text/plain": [
       "(266, 38)"
      ]
     },
     "execution_count": 4,
     "metadata": {},
     "output_type": "execute_result"
    }
   ],
   "source": [
    "df.shape"
   ]
  },
  {
   "cell_type": "code",
   "execution_count": 12,
   "id": "43bc7709-4954-4306-b19d-8d4eabcb1fca",
   "metadata": {},
   "outputs": [
    {
     "data": {
      "text/html": [
       "<div><style>\n",
       ".dataframe > thead > tr,\n",
       ".dataframe > tbody > tr {\n",
       "  text-align: right;\n",
       "  white-space: pre-wrap;\n",
       "}\n",
       "</style>\n",
       "<small>shape: (5, 36)</small><table border=\"1\" class=\"dataframe\"><thead><tr><th>Country Name</th><th>Country Code</th><th>1990</th><th>1991</th><th>1992</th><th>1993</th><th>1994</th><th>1995</th><th>1996</th><th>1997</th><th>1998</th><th>1999</th><th>2000</th><th>2001</th><th>2002</th><th>2003</th><th>2004</th><th>2005</th><th>2006</th><th>2007</th><th>2008</th><th>2009</th><th>2010</th><th>2011</th><th>2012</th><th>2013</th><th>2014</th><th>2015</th><th>2016</th><th>2017</th><th>2018</th><th>2019</th><th>2020</th><th>2021</th><th>2022</th><th>2023</th></tr><tr><td>str</td><td>str</td><td>f64</td><td>f64</td><td>f64</td><td>f64</td><td>f64</td><td>f64</td><td>f64</td><td>f64</td><td>f64</td><td>f64</td><td>f64</td><td>f64</td><td>f64</td><td>f64</td><td>f64</td><td>f64</td><td>f64</td><td>f64</td><td>f64</td><td>f64</td><td>f64</td><td>f64</td><td>f64</td><td>f64</td><td>f64</td><td>f64</td><td>f64</td><td>f64</td><td>f64</td><td>f64</td><td>f64</td><td>f64</td><td>f64</td><td>f64</td></tr></thead><tbody><tr><td>&quot;Aruba&quot;</td><td>&quot;ABW&quot;</td><td>0.0</td><td>0.0</td><td>0.0</td><td>0.0</td><td>0.0</td><td>0.0</td><td>2.768383</td><td>null</td><td>null</td><td>4.506179</td><td>15.4428</td><td>17.1</td><td>18.8</td><td>20.8</td><td>23.0</td><td>25.4</td><td>28.0</td><td>30.9</td><td>52.0</td><td>58.0</td><td>62.0</td><td>69.0</td><td>74.0</td><td>78.9</td><td>83.78</td><td>88.6612</td><td>93.5425</td><td>97.17</td><td>null</td><td>null</td><td>null</td><td>null</td><td>null</td><td>null</td></tr><tr><td>&quot;Africa Eastern and Southern&quot;</td><td>&quot;AFE&quot;</td><td>0.0</td><td>0.001732</td><td>0.005041</td><td>0.014629</td><td>0.03171</td><td>0.086496</td><td>0.112752</td><td>0.213192</td><td>0.386772</td><td>0.569512</td><td>0.770554</td><td>0.956732</td><td>1.12558</td><td>1.421555</td><td>1.706962</td><td>1.8</td><td>1.9</td><td>2.7</td><td>3.0</td><td>3.5</td><td>5.3</td><td>6.8</td><td>8.4</td><td>10.0</td><td>12.1</td><td>14.3</td><td>15.7</td><td>17.4</td><td>19.8</td><td>22.8</td><td>26.0</td><td>29.5</td><td>31.4</td><td>34.9</td></tr><tr><td>&quot;Afghanistan&quot;</td><td>&quot;AFG&quot;</td><td>0.0</td><td>0.0</td><td>0.0</td><td>0.0</td><td>0.0</td><td>0.0</td><td>null</td><td>null</td><td>null</td><td>null</td><td>null</td><td>0.004723</td><td>0.0045614</td><td>0.0878913</td><td>0.105809</td><td>1.22415</td><td>2.10712</td><td>1.9</td><td>1.84</td><td>3.55</td><td>4.0</td><td>5.0</td><td>5.45455</td><td>5.9</td><td>7.0</td><td>8.26</td><td>11.0</td><td>13.5</td><td>16.8</td><td>17.6</td><td>18.4</td><td>null</td><td>null</td><td>null</td></tr><tr><td>&quot;Africa Western and Central&quot;</td><td>&quot;AFW&quot;</td><td>0.0</td><td>0.0</td><td>0.0</td><td>0.0</td><td>0.000004</td><td>0.000133</td><td>0.007018</td><td>0.019945</td><td>0.035648</td><td>0.086583</td><td>0.139393</td><td>0.210108</td><td>0.412177</td><td>0.658126</td><td>1.178579</td><td>2.3</td><td>3.4</td><td>4.2</td><td>5.0</td><td>5.8</td><td>7.2</td><td>8.7</td><td>10.3</td><td>12.6</td><td>14.9</td><td>17.2</td><td>19.9</td><td>23.2</td><td>25.7</td><td>28.9</td><td>32.4</td><td>34.3</td><td>36.9</td><td>39.4</td></tr><tr><td>&quot;Angola&quot;</td><td>&quot;AGO&quot;</td><td>0.0</td><td>0.0</td><td>0.0</td><td>0.0</td><td>0.0</td><td>0.0</td><td>0.000776</td><td>0.005674</td><td>0.018454</td><td>0.071964</td><td>0.105046</td><td>0.136014</td><td>0.270377</td><td>0.370682</td><td>0.464815</td><td>1.14337</td><td>1.5</td><td>1.7</td><td>1.9</td><td>2.3</td><td>2.8</td><td>4.7</td><td>7.7</td><td>13.0</td><td>21.3623</td><td>22.0</td><td>23.2</td><td>26.0</td><td>29.0</td><td>32.1294</td><td>36.6347</td><td>37.8067</td><td>39.2935</td><td>null</td></tr></tbody></table></div>"
      ],
      "text/plain": [
       "shape: (5, 36)\n",
       "┌────────────────────┬──────────────┬──────┬──────────┬───┬─────────┬─────────┬─────────┬──────┐\n",
       "│ Country Name       ┆ Country Code ┆ 1990 ┆ 1991     ┆ … ┆ 2020    ┆ 2021    ┆ 2022    ┆ 2023 │\n",
       "│ ---                ┆ ---          ┆ ---  ┆ ---      ┆   ┆ ---     ┆ ---     ┆ ---     ┆ ---  │\n",
       "│ str                ┆ str          ┆ f64  ┆ f64      ┆   ┆ f64     ┆ f64     ┆ f64     ┆ f64  │\n",
       "╞════════════════════╪══════════════╪══════╪══════════╪═══╪═════════╪═════════╪═════════╪══════╡\n",
       "│ Aruba              ┆ ABW          ┆ 0.0  ┆ 0.0      ┆ … ┆ null    ┆ null    ┆ null    ┆ null │\n",
       "│ Africa Eastern and ┆ AFE          ┆ 0.0  ┆ 0.001732 ┆ … ┆ 26.0    ┆ 29.5    ┆ 31.4    ┆ 34.9 │\n",
       "│ Southern           ┆              ┆      ┆          ┆   ┆         ┆         ┆         ┆      │\n",
       "│ Afghanistan        ┆ AFG          ┆ 0.0  ┆ 0.0      ┆ … ┆ 18.4    ┆ null    ┆ null    ┆ null │\n",
       "│ Africa Western and ┆ AFW          ┆ 0.0  ┆ 0.0      ┆ … ┆ 32.4    ┆ 34.3    ┆ 36.9    ┆ 39.4 │\n",
       "│ Central            ┆              ┆      ┆          ┆   ┆         ┆         ┆         ┆      │\n",
       "│ Angola             ┆ AGO          ┆ 0.0  ┆ 0.0      ┆ … ┆ 36.6347 ┆ 37.8067 ┆ 39.2935 ┆ null │\n",
       "└────────────────────┴──────────────┴──────┴──────────┴───┴─────────┴─────────┴─────────┴──────┘"
      ]
     },
     "execution_count": 12,
     "metadata": {},
     "output_type": "execute_result"
    }
   ],
   "source": [
    "df = df.drop(['Indicator Name', 'Indicator Code'])\n",
    "df.head()"
   ]
  }
 ],
 "metadata": {
  "kernelspec": {
   "display_name": "Python 3 (ipykernel)",
   "language": "python",
   "name": "python3"
  },
  "language_info": {
   "codemirror_mode": {
    "name": "ipython",
    "version": 3
   },
   "file_extension": ".py",
   "mimetype": "text/x-python",
   "name": "python",
   "nbconvert_exporter": "python",
   "pygments_lexer": "ipython3",
   "version": "3.13.0"
  }
 },
 "nbformat": 4,
 "nbformat_minor": 5
}
