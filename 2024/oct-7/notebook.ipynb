{
 "cells": [
  {
   "cell_type": "markdown",
   "id": "b4155941-415f-4549-b851-2faa08593dd5",
   "metadata": {},
   "source": [
    "# Makeover Monday Notebook\n",
    "### October 7, 2024\n",
    "\n",
    "*Part I - Data exploration*"
   ]
  },
  {
   "cell_type": "code",
   "execution_count": 1,
   "id": "683fd67e-382b-4aa1-867d-fcde8849aedb",
   "metadata": {},
   "outputs": [],
   "source": [
    "import os\n",
    "from os import path\n",
    "\n",
    "import matplotlib as mpl\n",
    "import polars as pl\n",
    "import matplotlib.pyplot as plt"
   ]
  },
  {
   "cell_type": "code",
   "execution_count": 2,
   "id": "5863c521-7de9-4ce4-84a6-e9f2c1d80049",
   "metadata": {},
   "outputs": [
    {
     "name": "stdout",
     "output_type": "stream",
     "text": [
      "Area Names\n",
      "Area Codes\n",
      "Time Period\n",
      "Happiness\n",
      "Worthwhile\n",
      "Anxiety\n",
      "Life Satisfaction\n",
      "Unit\n",
      "Notes\n",
      "Data Description\n"
     ]
    }
   ],
   "source": [
    "df = pl.read_csv(path.join(os.getcwd(), 'data.csv'))\n",
    "\n",
    "for column in df.columns:\n",
    "    print(column)"
   ]
  },
  {
   "cell_type": "code",
   "execution_count": 3,
   "id": "33516148-824c-4360-9a1f-56904b2080bf",
   "metadata": {},
   "outputs": [
    {
     "data": {
      "text/plain": [
       "(4476, 10)"
      ]
     },
     "execution_count": 3,
     "metadata": {},
     "output_type": "execute_result"
    }
   ],
   "source": [
    "df.shape"
   ]
  },
  {
   "cell_type": "code",
   "execution_count": 4,
   "id": "43bc7709-4954-4306-b19d-8d4eabcb1fca",
   "metadata": {},
   "outputs": [
    {
     "data": {
      "text/html": [
       "<div><style>\n",
       ".dataframe > thead > tr,\n",
       ".dataframe > tbody > tr {\n",
       "  text-align: right;\n",
       "  white-space: pre-wrap;\n",
       "}\n",
       "</style>\n",
       "<small>shape: (5, 10)</small><table border=\"1\" class=\"dataframe\"><thead><tr><th>Area Names</th><th>Area Codes</th><th>Time Period</th><th>Happiness</th><th>Worthwhile</th><th>Anxiety</th><th>Life Satisfaction</th><th>Unit</th><th>Notes</th><th>Data Description</th></tr><tr><td>str</td><td>str</td><td>str</td><td>f64</td><td>f64</td><td>f64</td><td>f64</td><td>str</td><td>str</td><td>str</td></tr></thead><tbody><tr><td>&quot;Haringey&quot;</td><td>&quot;E09000014&quot;</td><td>&quot;April 2014 to March 2015&quot;</td><td>7.27</td><td>7.63</td><td>3.0</td><td>7.38</td><td>&quot;Score out of 10&quot;</td><td>&quot;1. Data are weighted mean aver…</td><td>&quot;Average ratings of personal we…</td></tr><tr><td>&quot;Mid Ulster&quot;</td><td>&quot;N09000009&quot;</td><td>&quot;April 2013 to March 2014&quot;</td><td>7.82</td><td>7.93</td><td>2.8</td><td>7.77</td><td>&quot;Score out of 10&quot;</td><td>&quot;1. Data are weighted mean aver…</td><td>&quot;Average ratings of personal we…</td></tr><tr><td>&quot;Swansea / Abertawe&quot;</td><td>&quot;W06000011&quot;</td><td>&quot;April 2016 to March 2017&quot;</td><td>7.41</td><td>7.68</td><td>3.18</td><td>7.53</td><td>&quot;Score out of 10&quot;</td><td>&quot;1. Data are weighted mean aver…</td><td>&quot;Average ratings of personal we…</td></tr><tr><td>&quot;Sedgemoor&quot;</td><td>&quot;E07000188&quot;</td><td>&quot;April 2012 to March 2013&quot;</td><td>7.04</td><td>7.76</td><td>3.46</td><td>7.64</td><td>&quot;Score out of 10&quot;</td><td>&quot;1. Data are weighted mean aver…</td><td>&quot;Average ratings of personal we…</td></tr><tr><td>&quot;Windsor and Maidenhead&quot;</td><td>&quot;E06000040&quot;</td><td>&quot;April 2015 to March 2016&quot;</td><td>7.67</td><td>7.97</td><td>2.98</td><td>7.83</td><td>&quot;Score out of 10&quot;</td><td>&quot;1. Data are weighted mean aver…</td><td>&quot;Average ratings of personal we…</td></tr></tbody></table></div>"
      ],
      "text/plain": [
       "shape: (5, 10)\n",
       "┌───────────┬───────────┬───────────┬───────────┬───┬───────────┬───────────┬───────────┬──────────┐\n",
       "│ Area      ┆ Area      ┆ Time      ┆ Happiness ┆ … ┆ Life Sati ┆ Unit      ┆ Notes     ┆ Data Des │\n",
       "│ Names     ┆ Codes     ┆ Period    ┆ ---       ┆   ┆ sfaction  ┆ ---       ┆ ---       ┆ cription │\n",
       "│ ---       ┆ ---       ┆ ---       ┆ f64       ┆   ┆ ---       ┆ str       ┆ str       ┆ ---      │\n",
       "│ str       ┆ str       ┆ str       ┆           ┆   ┆ f64       ┆           ┆           ┆ str      │\n",
       "╞═══════════╪═══════════╪═══════════╪═══════════╪═══╪═══════════╪═══════════╪═══════════╪══════════╡\n",
       "│ Haringey  ┆ E09000014 ┆ April     ┆ 7.27      ┆ … ┆ 7.38      ┆ Score out ┆ 1. Data   ┆ Average  │\n",
       "│           ┆           ┆ 2014 to   ┆           ┆   ┆           ┆ of 10     ┆ are       ┆ ratings  │\n",
       "│           ┆           ┆ March     ┆           ┆   ┆           ┆           ┆ weighted  ┆ of       │\n",
       "│           ┆           ┆ 2015      ┆           ┆   ┆           ┆           ┆ mean      ┆ personal │\n",
       "│           ┆           ┆           ┆           ┆   ┆           ┆           ┆ aver…     ┆ we…      │\n",
       "│ Mid       ┆ N09000009 ┆ April     ┆ 7.82      ┆ … ┆ 7.77      ┆ Score out ┆ 1. Data   ┆ Average  │\n",
       "│ Ulster    ┆           ┆ 2013 to   ┆           ┆   ┆           ┆ of 10     ┆ are       ┆ ratings  │\n",
       "│           ┆           ┆ March     ┆           ┆   ┆           ┆           ┆ weighted  ┆ of       │\n",
       "│           ┆           ┆ 2014      ┆           ┆   ┆           ┆           ┆ mean      ┆ personal │\n",
       "│           ┆           ┆           ┆           ┆   ┆           ┆           ┆ aver…     ┆ we…      │\n",
       "│ Swansea / ┆ W06000011 ┆ April     ┆ 7.41      ┆ … ┆ 7.53      ┆ Score out ┆ 1. Data   ┆ Average  │\n",
       "│ Abertawe  ┆           ┆ 2016 to   ┆           ┆   ┆           ┆ of 10     ┆ are       ┆ ratings  │\n",
       "│           ┆           ┆ March     ┆           ┆   ┆           ┆           ┆ weighted  ┆ of       │\n",
       "│           ┆           ┆ 2017      ┆           ┆   ┆           ┆           ┆ mean      ┆ personal │\n",
       "│           ┆           ┆           ┆           ┆   ┆           ┆           ┆ aver…     ┆ we…      │\n",
       "│ Sedgemoor ┆ E07000188 ┆ April     ┆ 7.04      ┆ … ┆ 7.64      ┆ Score out ┆ 1. Data   ┆ Average  │\n",
       "│           ┆           ┆ 2012 to   ┆           ┆   ┆           ┆ of 10     ┆ are       ┆ ratings  │\n",
       "│           ┆           ┆ March     ┆           ┆   ┆           ┆           ┆ weighted  ┆ of       │\n",
       "│           ┆           ┆ 2013      ┆           ┆   ┆           ┆           ┆ mean      ┆ personal │\n",
       "│           ┆           ┆           ┆           ┆   ┆           ┆           ┆ aver…     ┆ we…      │\n",
       "│ Windsor   ┆ E06000040 ┆ April     ┆ 7.67      ┆ … ┆ 7.83      ┆ Score out ┆ 1. Data   ┆ Average  │\n",
       "│ and Maide ┆           ┆ 2015 to   ┆           ┆   ┆           ┆ of 10     ┆ are       ┆ ratings  │\n",
       "│ nhead     ┆           ┆ March     ┆           ┆   ┆           ┆           ┆ weighted  ┆ of       │\n",
       "│           ┆           ┆ 2016      ┆           ┆   ┆           ┆           ┆ mean      ┆ personal │\n",
       "│           ┆           ┆           ┆           ┆   ┆           ┆           ┆ aver…     ┆ we…      │\n",
       "└───────────┴───────────┴───────────┴───────────┴───┴───────────┴───────────┴───────────┴──────────┘"
      ]
     },
     "execution_count": 4,
     "metadata": {},
     "output_type": "execute_result"
    }
   ],
   "source": [
    "df.head()"
   ]
  },
  {
   "cell_type": "code",
   "execution_count": 5,
   "id": "424cddfc-a3bf-4d28-9764-e734448fe4da",
   "metadata": {},
   "outputs": [
    {
     "data": {
      "text/html": [
       "<div><style>\n",
       ".dataframe > thead > tr,\n",
       ".dataframe > tbody > tr {\n",
       "  text-align: right;\n",
       "  white-space: pre-wrap;\n",
       "}\n",
       "</style>\n",
       "<small>shape: (10, 10)</small><table border=\"1\" class=\"dataframe\"><thead><tr><th>Area Names</th><th>Area Codes</th><th>Time Period</th><th>Happiness</th><th>Worthwhile</th><th>Anxiety</th><th>Life Satisfaction</th><th>Unit</th><th>Notes</th><th>Data Description</th></tr><tr><td>str</td><td>str</td><td>str</td><td>f64</td><td>f64</td><td>f64</td><td>f64</td><td>str</td><td>str</td><td>str</td></tr></thead><tbody><tr><td>&quot;Adur&quot;</td><td>&quot;E07000223&quot;</td><td>&quot;April 2022 to March 2023&quot;</td><td>6.16</td><td>7.95</td><td>4.84</td><td>7.57</td><td>&quot;Score out of 10&quot;</td><td>&quot;1. Data are weighted mean aver…</td><td>&quot;Average ratings of personal we…</td></tr><tr><td>&quot;Gedling&quot;</td><td>&quot;E07000173&quot;</td><td>&quot;April 2020 to March 2021&quot;</td><td>6.52</td><td>7.78</td><td>3.74</td><td>7.13</td><td>&quot;Score out of 10&quot;</td><td>&quot;1. Data are weighted mean aver…</td><td>&quot;Average ratings of personal we…</td></tr><tr><td>&quot;Harlow&quot;</td><td>&quot;E07000073&quot;</td><td>&quot;April 2012 to March 2013&quot;</td><td>6.55</td><td>6.92</td><td>3.16</td><td>6.79</td><td>&quot;Score out of 10&quot;</td><td>&quot;1. Data are weighted mean aver…</td><td>&quot;Average ratings of personal we…</td></tr><tr><td>&quot;Hastings&quot;</td><td>&quot;E07000062&quot;</td><td>&quot;April 2022 to March 2023&quot;</td><td>6.56</td><td>7.26</td><td>4.17</td><td>6.93</td><td>&quot;Score out of 10&quot;</td><td>&quot;1. Data are weighted mean aver…</td><td>&quot;Average ratings of personal we…</td></tr><tr><td>&quot;Lincoln&quot;</td><td>&quot;E07000138&quot;</td><td>&quot;April 2022 to March 2023&quot;</td><td>6.57</td><td>7.22</td><td>3.11</td><td>6.7</td><td>&quot;Score out of 10&quot;</td><td>&quot;1. Data are weighted mean aver…</td><td>&quot;Average ratings of personal we…</td></tr><tr><td>&quot;Eastbourne&quot;</td><td>&quot;E07000061&quot;</td><td>&quot;April 2022 to March 2023&quot;</td><td>6.57</td><td>7.22</td><td>3.76</td><td>6.68</td><td>&quot;Score out of 10&quot;</td><td>&quot;1. Data are weighted mean aver…</td><td>&quot;Average ratings of personal we…</td></tr><tr><td>&quot;Stevenage&quot;</td><td>&quot;E07000243&quot;</td><td>&quot;April 2020 to March 2021&quot;</td><td>6.58</td><td>7.48</td><td>4.02</td><td>7.31</td><td>&quot;Score out of 10&quot;</td><td>&quot;1. Data are weighted mean aver…</td><td>&quot;Average ratings of personal we…</td></tr><tr><td>&quot;Cannock Chase&quot;</td><td>&quot;E07000192&quot;</td><td>&quot;April 2020 to March 2021&quot;</td><td>6.66</td><td>7.06</td><td>3.95</td><td>7.09</td><td>&quot;Score out of 10&quot;</td><td>&quot;1. Data are weighted mean aver…</td><td>&quot;Average ratings of personal we…</td></tr><tr><td>&quot;Fenland&quot;</td><td>&quot;E07000010&quot;</td><td>&quot;April 2017 to March 2018&quot;</td><td>6.7</td><td>7.78</td><td>3.18</td><td>7.46</td><td>&quot;Score out of 10&quot;</td><td>&quot;1. Data are weighted mean aver…</td><td>&quot;Average ratings of personal we…</td></tr><tr><td>&quot;Surrey Heath&quot;</td><td>&quot;E07000214&quot;</td><td>&quot;April 2018 to March 2019&quot;</td><td>6.71</td><td>7.92</td><td>3.92</td><td>7.32</td><td>&quot;Score out of 10&quot;</td><td>&quot;1. Data are weighted mean aver…</td><td>&quot;Average ratings of personal we…</td></tr></tbody></table></div>"
      ],
      "text/plain": [
       "shape: (10, 10)\n",
       "┌───────────┬───────────┬───────────┬───────────┬───┬───────────┬───────────┬───────────┬──────────┐\n",
       "│ Area      ┆ Area      ┆ Time      ┆ Happiness ┆ … ┆ Life Sati ┆ Unit      ┆ Notes     ┆ Data Des │\n",
       "│ Names     ┆ Codes     ┆ Period    ┆ ---       ┆   ┆ sfaction  ┆ ---       ┆ ---       ┆ cription │\n",
       "│ ---       ┆ ---       ┆ ---       ┆ f64       ┆   ┆ ---       ┆ str       ┆ str       ┆ ---      │\n",
       "│ str       ┆ str       ┆ str       ┆           ┆   ┆ f64       ┆           ┆           ┆ str      │\n",
       "╞═══════════╪═══════════╪═══════════╪═══════════╪═══╪═══════════╪═══════════╪═══════════╪══════════╡\n",
       "│ Adur      ┆ E07000223 ┆ April     ┆ 6.16      ┆ … ┆ 7.57      ┆ Score out ┆ 1. Data   ┆ Average  │\n",
       "│           ┆           ┆ 2022 to   ┆           ┆   ┆           ┆ of 10     ┆ are       ┆ ratings  │\n",
       "│           ┆           ┆ March     ┆           ┆   ┆           ┆           ┆ weighted  ┆ of       │\n",
       "│           ┆           ┆ 2023      ┆           ┆   ┆           ┆           ┆ mean      ┆ personal │\n",
       "│           ┆           ┆           ┆           ┆   ┆           ┆           ┆ aver…     ┆ we…      │\n",
       "│ Gedling   ┆ E07000173 ┆ April     ┆ 6.52      ┆ … ┆ 7.13      ┆ Score out ┆ 1. Data   ┆ Average  │\n",
       "│           ┆           ┆ 2020 to   ┆           ┆   ┆           ┆ of 10     ┆ are       ┆ ratings  │\n",
       "│           ┆           ┆ March     ┆           ┆   ┆           ┆           ┆ weighted  ┆ of       │\n",
       "│           ┆           ┆ 2021      ┆           ┆   ┆           ┆           ┆ mean      ┆ personal │\n",
       "│           ┆           ┆           ┆           ┆   ┆           ┆           ┆ aver…     ┆ we…      │\n",
       "│ Harlow    ┆ E07000073 ┆ April     ┆ 6.55      ┆ … ┆ 6.79      ┆ Score out ┆ 1. Data   ┆ Average  │\n",
       "│           ┆           ┆ 2012 to   ┆           ┆   ┆           ┆ of 10     ┆ are       ┆ ratings  │\n",
       "│           ┆           ┆ March     ┆           ┆   ┆           ┆           ┆ weighted  ┆ of       │\n",
       "│           ┆           ┆ 2013      ┆           ┆   ┆           ┆           ┆ mean      ┆ personal │\n",
       "│           ┆           ┆           ┆           ┆   ┆           ┆           ┆ aver…     ┆ we…      │\n",
       "│ Hastings  ┆ E07000062 ┆ April     ┆ 6.56      ┆ … ┆ 6.93      ┆ Score out ┆ 1. Data   ┆ Average  │\n",
       "│           ┆           ┆ 2022 to   ┆           ┆   ┆           ┆ of 10     ┆ are       ┆ ratings  │\n",
       "│           ┆           ┆ March     ┆           ┆   ┆           ┆           ┆ weighted  ┆ of       │\n",
       "│           ┆           ┆ 2023      ┆           ┆   ┆           ┆           ┆ mean      ┆ personal │\n",
       "│           ┆           ┆           ┆           ┆   ┆           ┆           ┆ aver…     ┆ we…      │\n",
       "│ Lincoln   ┆ E07000138 ┆ April     ┆ 6.57      ┆ … ┆ 6.7       ┆ Score out ┆ 1. Data   ┆ Average  │\n",
       "│           ┆           ┆ 2022 to   ┆           ┆   ┆           ┆ of 10     ┆ are       ┆ ratings  │\n",
       "│           ┆           ┆ March     ┆           ┆   ┆           ┆           ┆ weighted  ┆ of       │\n",
       "│           ┆           ┆ 2023      ┆           ┆   ┆           ┆           ┆ mean      ┆ personal │\n",
       "│           ┆           ┆           ┆           ┆   ┆           ┆           ┆ aver…     ┆ we…      │\n",
       "│ Eastbourn ┆ E07000061 ┆ April     ┆ 6.57      ┆ … ┆ 6.68      ┆ Score out ┆ 1. Data   ┆ Average  │\n",
       "│ e         ┆           ┆ 2022 to   ┆           ┆   ┆           ┆ of 10     ┆ are       ┆ ratings  │\n",
       "│           ┆           ┆ March     ┆           ┆   ┆           ┆           ┆ weighted  ┆ of       │\n",
       "│           ┆           ┆ 2023      ┆           ┆   ┆           ┆           ┆ mean      ┆ personal │\n",
       "│           ┆           ┆           ┆           ┆   ┆           ┆           ┆ aver…     ┆ we…      │\n",
       "│ Stevenage ┆ E07000243 ┆ April     ┆ 6.58      ┆ … ┆ 7.31      ┆ Score out ┆ 1. Data   ┆ Average  │\n",
       "│           ┆           ┆ 2020 to   ┆           ┆   ┆           ┆ of 10     ┆ are       ┆ ratings  │\n",
       "│           ┆           ┆ March     ┆           ┆   ┆           ┆           ┆ weighted  ┆ of       │\n",
       "│           ┆           ┆ 2021      ┆           ┆   ┆           ┆           ┆ mean      ┆ personal │\n",
       "│           ┆           ┆           ┆           ┆   ┆           ┆           ┆ aver…     ┆ we…      │\n",
       "│ Cannock   ┆ E07000192 ┆ April     ┆ 6.66      ┆ … ┆ 7.09      ┆ Score out ┆ 1. Data   ┆ Average  │\n",
       "│ Chase     ┆           ┆ 2020 to   ┆           ┆   ┆           ┆ of 10     ┆ are       ┆ ratings  │\n",
       "│           ┆           ┆ March     ┆           ┆   ┆           ┆           ┆ weighted  ┆ of       │\n",
       "│           ┆           ┆ 2021      ┆           ┆   ┆           ┆           ┆ mean      ┆ personal │\n",
       "│           ┆           ┆           ┆           ┆   ┆           ┆           ┆ aver…     ┆ we…      │\n",
       "│ Fenland   ┆ E07000010 ┆ April     ┆ 6.7       ┆ … ┆ 7.46      ┆ Score out ┆ 1. Data   ┆ Average  │\n",
       "│           ┆           ┆ 2017 to   ┆           ┆   ┆           ┆ of 10     ┆ are       ┆ ratings  │\n",
       "│           ┆           ┆ March     ┆           ┆   ┆           ┆           ┆ weighted  ┆ of       │\n",
       "│           ┆           ┆ 2018      ┆           ┆   ┆           ┆           ┆ mean      ┆ personal │\n",
       "│           ┆           ┆           ┆           ┆   ┆           ┆           ┆ aver…     ┆ we…      │\n",
       "│ Surrey    ┆ E07000214 ┆ April     ┆ 6.71      ┆ … ┆ 7.32      ┆ Score out ┆ 1. Data   ┆ Average  │\n",
       "│ Heath     ┆           ┆ 2018 to   ┆           ┆   ┆           ┆ of 10     ┆ are       ┆ ratings  │\n",
       "│           ┆           ┆ March     ┆           ┆   ┆           ┆           ┆ weighted  ┆ of       │\n",
       "│           ┆           ┆ 2019      ┆           ┆   ┆           ┆           ┆ mean      ┆ personal │\n",
       "│           ┆           ┆           ┆           ┆   ┆           ┆           ┆ aver…     ┆ we…      │\n",
       "└───────────┴───────────┴───────────┴───────────┴───┴───────────┴───────────┴───────────┴──────────┘"
      ]
     },
     "execution_count": 5,
     "metadata": {},
     "output_type": "execute_result"
    }
   ],
   "source": [
    "df.bottom_k(10, by='Happiness')"
   ]
  },
  {
   "cell_type": "markdown",
   "id": "f5ff41ff-3346-4561-a0bb-a79025a69e1f",
   "metadata": {},
   "source": [
    "Based on this, we're going to have a hard time comparing the data between categories without normalizing it. I'd also like to try regression analysis of each of the three to life happiness to try to find a correlation. Also, it looks like the columns for Unit, Notes, and Data Description are useless. Check for any unique values in those columns:"
   ]
  },
  {
   "cell_type": "code",
   "execution_count": 6,
   "id": "fa0afcb9-7150-4d18-9452-fa40e219f733",
   "metadata": {},
   "outputs": [
    {
     "name": "stdout",
     "output_type": "stream",
     "text": [
      "<class 'polars.dataframe.frame.DataFrame'>\n"
     ]
    }
   ],
   "source": [
    "df_list = ['Unit', 'Notes', 'Data Description']\n",
    "\n",
    "try_this = df.select(\n",
    "    pl.col('Unit').value_counts(sort=True, name='Unit Count'),\n",
    "    pl.col('Notes').value_counts(sort=True, name='Notes count'),\n",
    "    pl.col('Data Description').value_counts(sort=True, name='Data Desc count'),\n",
    ")\n",
    "\n",
    "#for column in df_list:\n",
    "#    unique_count_df = df.select(pl.col(column).value_counts(sort=True, name=\"Uniques\"))\n",
    "#    print(unique_count_df.head()) # We have to use print because you can't .head() in a for loop\n",
    "\n",
    "print(type(try_this))"
   ]
  },
  {
   "cell_type": "markdown",
   "id": "7a78eccf-9af0-4a8e-b0f1-b0602345aafd",
   "metadata": {},
   "source": [
    "Good to know. Is there any structure to the numbering conventions for UK zip codes? There must be..."
   ]
  },
  {
   "cell_type": "markdown",
   "id": "419a44ae-3430-49ea-a2c9-86955acf1e69",
   "metadata": {},
   "source": [
    "Great question! They're called GSS codes.\n",
    "\n",
    "[WIKIPEDIA LINK](https://en.wikipedia.org/wiki/GSS_coding_system)\n",
    "\n",
    "Jackpot. Those first three characters speak to the \"level of geography\". As I understand it, this represents the type of municipality represented by the \"Area Names\" value. The way the data was gathered filtered out all non-municipal codes already.\n",
    "\n",
    "I think we need a new column."
   ]
  },
  {
   "cell_type": "code",
   "execution_count": 7,
   "id": "75db8383-8a74-4813-abe7-dd0a4513fe45",
   "metadata": {
    "scrolled": true
   },
   "outputs": [
    {
     "data": {
      "text/html": [
       "<div><style>\n",
       ".dataframe > thead > tr,\n",
       ".dataframe > tbody > tr {\n",
       "  text-align: right;\n",
       "  white-space: pre-wrap;\n",
       "}\n",
       "</style>\n",
       "<small>shape: (5, 11)</small><table border=\"1\" class=\"dataframe\"><thead><tr><th>Area Names</th><th>Area Codes</th><th>Zones</th><th>Time Period</th><th>Happiness</th><th>Worthwhile</th><th>Anxiety</th><th>Life Satisfaction</th><th>Unit</th><th>Notes</th><th>Data Description</th></tr><tr><td>str</td><td>str</td><td>str</td><td>str</td><td>f64</td><td>f64</td><td>f64</td><td>f64</td><td>str</td><td>str</td><td>str</td></tr></thead><tbody><tr><td>&quot;Haringey&quot;</td><td>&quot;E09000014&quot;</td><td>&quot;E09&quot;</td><td>&quot;April 2014 to March 2015&quot;</td><td>7.27</td><td>7.63</td><td>3.0</td><td>7.38</td><td>&quot;Score out of 10&quot;</td><td>&quot;1. Data are weighted mean aver…</td><td>&quot;Average ratings of personal we…</td></tr><tr><td>&quot;Mid Ulster&quot;</td><td>&quot;N09000009&quot;</td><td>&quot;N09&quot;</td><td>&quot;April 2013 to March 2014&quot;</td><td>7.82</td><td>7.93</td><td>2.8</td><td>7.77</td><td>&quot;Score out of 10&quot;</td><td>&quot;1. Data are weighted mean aver…</td><td>&quot;Average ratings of personal we…</td></tr><tr><td>&quot;Swansea / Abertawe&quot;</td><td>&quot;W06000011&quot;</td><td>&quot;W06&quot;</td><td>&quot;April 2016 to March 2017&quot;</td><td>7.41</td><td>7.68</td><td>3.18</td><td>7.53</td><td>&quot;Score out of 10&quot;</td><td>&quot;1. Data are weighted mean aver…</td><td>&quot;Average ratings of personal we…</td></tr><tr><td>&quot;Sedgemoor&quot;</td><td>&quot;E07000188&quot;</td><td>&quot;E07&quot;</td><td>&quot;April 2012 to March 2013&quot;</td><td>7.04</td><td>7.76</td><td>3.46</td><td>7.64</td><td>&quot;Score out of 10&quot;</td><td>&quot;1. Data are weighted mean aver…</td><td>&quot;Average ratings of personal we…</td></tr><tr><td>&quot;Windsor and Maidenhead&quot;</td><td>&quot;E06000040&quot;</td><td>&quot;E06&quot;</td><td>&quot;April 2015 to March 2016&quot;</td><td>7.67</td><td>7.97</td><td>2.98</td><td>7.83</td><td>&quot;Score out of 10&quot;</td><td>&quot;1. Data are weighted mean aver…</td><td>&quot;Average ratings of personal we…</td></tr></tbody></table></div>"
      ],
      "text/plain": [
       "shape: (5, 11)\n",
       "┌────────────┬────────────┬───────┬────────────┬───┬───────────┬───────────┬───────────┬───────────┐\n",
       "│ Area Names ┆ Area Codes ┆ Zones ┆ Time       ┆ … ┆ Life Sati ┆ Unit      ┆ Notes     ┆ Data Desc │\n",
       "│ ---        ┆ ---        ┆ ---   ┆ Period     ┆   ┆ sfaction  ┆ ---       ┆ ---       ┆ ription   │\n",
       "│ str        ┆ str        ┆ str   ┆ ---        ┆   ┆ ---       ┆ str       ┆ str       ┆ ---       │\n",
       "│            ┆            ┆       ┆ str        ┆   ┆ f64       ┆           ┆           ┆ str       │\n",
       "╞════════════╪════════════╪═══════╪════════════╪═══╪═══════════╪═══════════╪═══════════╪═══════════╡\n",
       "│ Haringey   ┆ E09000014  ┆ E09   ┆ April 2014 ┆ … ┆ 7.38      ┆ Score out ┆ 1. Data   ┆ Average   │\n",
       "│            ┆            ┆       ┆ to March   ┆   ┆           ┆ of 10     ┆ are       ┆ ratings   │\n",
       "│            ┆            ┆       ┆ 2015       ┆   ┆           ┆           ┆ weighted  ┆ of        │\n",
       "│            ┆            ┆       ┆            ┆   ┆           ┆           ┆ mean      ┆ personal  │\n",
       "│            ┆            ┆       ┆            ┆   ┆           ┆           ┆ aver…     ┆ we…       │\n",
       "│ Mid Ulster ┆ N09000009  ┆ N09   ┆ April 2013 ┆ … ┆ 7.77      ┆ Score out ┆ 1. Data   ┆ Average   │\n",
       "│            ┆            ┆       ┆ to March   ┆   ┆           ┆ of 10     ┆ are       ┆ ratings   │\n",
       "│            ┆            ┆       ┆ 2014       ┆   ┆           ┆           ┆ weighted  ┆ of        │\n",
       "│            ┆            ┆       ┆            ┆   ┆           ┆           ┆ mean      ┆ personal  │\n",
       "│            ┆            ┆       ┆            ┆   ┆           ┆           ┆ aver…     ┆ we…       │\n",
       "│ Swansea /  ┆ W06000011  ┆ W06   ┆ April 2016 ┆ … ┆ 7.53      ┆ Score out ┆ 1. Data   ┆ Average   │\n",
       "│ Abertawe   ┆            ┆       ┆ to March   ┆   ┆           ┆ of 10     ┆ are       ┆ ratings   │\n",
       "│            ┆            ┆       ┆ 2017       ┆   ┆           ┆           ┆ weighted  ┆ of        │\n",
       "│            ┆            ┆       ┆            ┆   ┆           ┆           ┆ mean      ┆ personal  │\n",
       "│            ┆            ┆       ┆            ┆   ┆           ┆           ┆ aver…     ┆ we…       │\n",
       "│ Sedgemoor  ┆ E07000188  ┆ E07   ┆ April 2012 ┆ … ┆ 7.64      ┆ Score out ┆ 1. Data   ┆ Average   │\n",
       "│            ┆            ┆       ┆ to March   ┆   ┆           ┆ of 10     ┆ are       ┆ ratings   │\n",
       "│            ┆            ┆       ┆ 2013       ┆   ┆           ┆           ┆ weighted  ┆ of        │\n",
       "│            ┆            ┆       ┆            ┆   ┆           ┆           ┆ mean      ┆ personal  │\n",
       "│            ┆            ┆       ┆            ┆   ┆           ┆           ┆ aver…     ┆ we…       │\n",
       "│ Windsor    ┆ E06000040  ┆ E06   ┆ April 2015 ┆ … ┆ 7.83      ┆ Score out ┆ 1. Data   ┆ Average   │\n",
       "│ and        ┆            ┆       ┆ to March   ┆   ┆           ┆ of 10     ┆ are       ┆ ratings   │\n",
       "│ Maidenhead ┆            ┆       ┆ 2016       ┆   ┆           ┆           ┆ weighted  ┆ of        │\n",
       "│            ┆            ┆       ┆            ┆   ┆           ┆           ┆ mean      ┆ personal  │\n",
       "│            ┆            ┆       ┆            ┆   ┆           ┆           ┆ aver…     ┆ we…       │\n",
       "└────────────┴────────────┴───────┴────────────┴───┴───────────┴───────────┴───────────┴───────────┘"
      ]
     },
     "execution_count": 7,
     "metadata": {},
     "output_type": "execute_result"
    }
   ],
   "source": [
    "zones = []\n",
    "\n",
    "for entry in df.rows():\n",
    "    zones.append(entry[1][0:3])\n",
    "\n",
    "zones = pl.Series(\"Zones\", zones)\n",
    "df.insert_column(2, zones)\n",
    "df.head()"
   ]
  },
  {
   "cell_type": "markdown",
   "id": "53a0de00-75d7-479c-8357-49498a2266fd",
   "metadata": {},
   "source": [
    "I want to see how many unique zones we have, and decide which types they are"
   ]
  },
  {
   "cell_type": "code",
   "execution_count": 8,
   "id": "8c7eceb0-7392-484d-b0af-cc2dac5b50dd",
   "metadata": {},
   "outputs": [
    {
     "name": "stdout",
     "output_type": "stream",
     "text": [
      "shape: (7, 1)\n",
      "┌──────────────┐\n",
      "│ Zones        │\n",
      "│ ---          │\n",
      "│ struct[2]    │\n",
      "╞══════════════╡\n",
      "│ {\"E07\",2172} │\n",
      "│ {\"E06\",696}  │\n",
      "│ {\"E08\",432}  │\n",
      "│ {\"E09\",396}  │\n",
      "│ {\"S12\",384}  │\n",
      "│ {\"W06\",264}  │\n",
      "│ {\"N09\",132}  │\n",
      "└──────────────┘\n"
     ]
    }
   ],
   "source": [
    "zone_count = df.select(pl.col('Zones').value_counts(sort=True, name=\"Codes\"))\n",
    "print(zone_count)\n",
    "\n",
    "# I don't know how to get this to display as anything other than the counted data contained in a set of brackets"
   ]
  },
  {
   "cell_type": "markdown",
   "id": "69344665-e30c-43c8-ae8e-5a3cf8877718",
   "metadata": {},
   "source": [
    "This corresponds to :\n",
    "* E07 -- 2172 -- Non-Metropolitan District\n",
    "* E06 -- 696 -- Unitary Authority\n",
    "* E08 -- 432 -- Metropolitan Bureau\n",
    "* E09 -- 396 -- London Burough\n",
    "* S12 -- 384 -- Council Areas\n",
    "* W06 -- 264 -- Unitary Authority\n",
    "* N09 -- 132 -- Local Government Districts"
   ]
  },
  {
   "cell_type": "markdown",
   "id": "9aa04963-87f7-420c-a69a-80b2be65c65f",
   "metadata": {},
   "source": [
    "Our next big challenge is that the timeframes these data were taken on are somewhat different. Let's see..."
   ]
  },
  {
   "cell_type": "code",
   "execution_count": 19,
   "id": "354c8f71-e737-4fb2-81ee-868a0440fcca",
   "metadata": {},
   "outputs": [
    {
     "name": "stdout",
     "output_type": "stream",
     "text": [
      "shape: (308, 1)\n",
      "┌───────────────────────────────┐\n",
      "│ Area Names                    │\n",
      "│ ---                           │\n",
      "│ struct[2]                     │\n",
      "╞═══════════════════════════════╡\n",
      "│ {\"Haringey\",12}               │\n",
      "│ {\"Sedgemoor\",12}              │\n",
      "│ {\"Windsor and Maidenhead\",12} │\n",
      "│ {\"Nuneaton and Bedworth\",12}  │\n",
      "│ {\"Hyndburn\",12}               │\n",
      "│ …                             │\n",
      "│ {\"South Norfolk\",12}          │\n",
      "│ {\"Plymouth\",12}               │\n",
      "│ {\"Brent\",12}                  │\n",
      "│ {\"City of London\",12}         │\n",
      "│ {\"North Tyneside\",12}         │\n",
      "└───────────────────────────────┘\n"
     ]
    }
   ],
   "source": [
    "zone_count = df.select(pl.col('Area Names').value_counts(sort=True, name=\"Stuff\"))\n",
    "\n",
    "print(zone_count)\n",
    "\n",
    "# The below will show the whole thing so you can double check, but each town has 12 rows.\n",
    "\n",
    "#with pl.Config(tbl_rows=-1):\n",
    "#    print(zone_count)"
   ]
  },
  {
   "cell_type": "markdown",
   "id": "6fbf641c-647f-441e-90ae-e2199113548e",
   "metadata": {},
   "source": [
    "*Part II - Visualization*\n",
    "\n",
    "We'll visualize the data before doing regression analysis to see whether it's even worth it. \n",
    "\n",
    "We're going to look into whether these categorized area codes and reported happiness are independent. I'd also like to look at how ratings for happiness have changed over time, and whether certain government types may lead to a more or less happy populace.\n",
    "\n",
    "Unfortunately, since I'm bringing in government structures I'm going to drop the Scottish, Welsh, and Irish zones from the analysis. They may share, as an example, the Unitary Authority feature, but the national level laws governing those authorities will be different.\n",
    "\n",
    "Specifically, I'd like to look at:\n",
    "* Unitary Authority vs. non- Unitary Authority\n",
    "* Metropolitan vs. non- Metropolitan\n",
    "* London Metropolitan vs. non- London Metropolitan\n",
    "* Of E07-E09, which has seen the most change in reported happiness rating?\n",
    "\n",
    "Our first step is to restructure the dataframes. Let's sort first by area codes, then area names, then time period. Then... we can cheat and split the dataframe into groups of 12 by row index."
   ]
  },
  {
   "cell_type": "code",
   "execution_count": 16,
   "id": "70135d62-fdb7-4eca-8b16-5a86b8abd566",
   "metadata": {},
   "outputs": [],
   "source": [
    "# I don't know whether it's good practice to constantly overwrite the dataframe, but I don't want it living in memory too long. It can be painful to live with that sorrow.\n",
    "\n",
    "df = df.filter(\n",
    "    ~pl.col('Zones').is_in(['W06', 'S12', 'N09']),\n",
    ")\n",
    "\n",
    "sorted_df = df.sort(['Zones', 'Area Names', 'Time Period'])\n",
    "\n",
    "# The below code will print a massive version of the dataframe. I used it to check the sorting consistency.\n",
    "# It's large enough to be inconvenient, thus it's commented out, but left available.\n",
    "\n",
    "#with pl.Config(tbl_rows=100, tbl_cols=-1):\n",
    "#    print(sorted_df)"
   ]
  },
  {
   "cell_type": "markdown",
   "id": "3bfe3ecd-8469-4f4a-b8a9-e18624d61afb",
   "metadata": {},
   "source": [
    "The number of rows removed should be equal to the sum of:\n",
    "* S12 -- 384 -- Council Areas\n",
    "* W06 -- 264 -- Unitary Authority\n",
    "* N09 -- 132 -- Local Government Districts"
   ]
  },
  {
   "cell_type": "code",
   "execution_count": 14,
   "id": "7e851bf5-4d2a-4e61-ba75-feaf1d7fb08e",
   "metadata": {
    "scrolled": true
   },
   "outputs": [
    {
     "data": {
      "text/plain": [
       "True"
      ]
     },
     "execution_count": 14,
     "metadata": {},
     "output_type": "execute_result"
    }
   ],
   "source": [
    "sorted_df.height == 4476 - (384 + 264 + 132) # I know you can distribute the negative Mr. Smarty Pants, but math is a visual game"
   ]
  },
  {
   "cell_type": "markdown",
   "id": "16638ec1-53ee-4af3-a865-062ad0966e2f",
   "metadata": {},
   "source": [
    "Nowadays I'm also tired of seeing those extra columns"
   ]
  },
  {
   "cell_type": "code",
   "execution_count": 20,
   "id": "7fc7f7e1-cc03-4e38-9504-14788365ac3d",
   "metadata": {},
   "outputs": [
    {
     "data": {
      "text/html": [
       "<div><style>\n",
       ".dataframe > thead > tr,\n",
       ".dataframe > tbody > tr {\n",
       "  text-align: right;\n",
       "  white-space: pre-wrap;\n",
       "}\n",
       "</style>\n",
       "<small>shape: (5, 8)</small><table border=\"1\" class=\"dataframe\"><thead><tr><th>Area Names</th><th>Area Codes</th><th>Zones</th><th>Time Period</th><th>Happiness</th><th>Worthwhile</th><th>Anxiety</th><th>Life Satisfaction</th></tr><tr><td>str</td><td>str</td><td>str</td><td>str</td><td>f64</td><td>f64</td><td>f64</td><td>f64</td></tr></thead><tbody><tr><td>&quot;Haringey&quot;</td><td>&quot;E09000014&quot;</td><td>&quot;E09&quot;</td><td>&quot;April 2014 to March 2015&quot;</td><td>7.27</td><td>7.63</td><td>3.0</td><td>7.38</td></tr><tr><td>&quot;Sedgemoor&quot;</td><td>&quot;E07000188&quot;</td><td>&quot;E07&quot;</td><td>&quot;April 2012 to March 2013&quot;</td><td>7.04</td><td>7.76</td><td>3.46</td><td>7.64</td></tr><tr><td>&quot;Windsor and Maidenhead&quot;</td><td>&quot;E06000040&quot;</td><td>&quot;E06&quot;</td><td>&quot;April 2015 to March 2016&quot;</td><td>7.67</td><td>7.97</td><td>2.98</td><td>7.83</td></tr><tr><td>&quot;Nuneaton and Bedworth&quot;</td><td>&quot;E07000219&quot;</td><td>&quot;E07&quot;</td><td>&quot;April 2012 to March 2013&quot;</td><td>7.26</td><td>7.64</td><td>3.09</td><td>7.7</td></tr><tr><td>&quot;Hyndburn&quot;</td><td>&quot;E07000120&quot;</td><td>&quot;E07&quot;</td><td>&quot;April 2018 to March 2019&quot;</td><td>7.89</td><td>7.73</td><td>2.7</td><td>7.99</td></tr></tbody></table></div>"
      ],
      "text/plain": [
       "shape: (5, 8)\n",
       "┌──────────────┬────────────┬───────┬─────────────┬───────────┬────────────┬─────────┬─────────────┐\n",
       "│ Area Names   ┆ Area Codes ┆ Zones ┆ Time Period ┆ Happiness ┆ Worthwhile ┆ Anxiety ┆ Life Satisf │\n",
       "│ ---          ┆ ---        ┆ ---   ┆ ---         ┆ ---       ┆ ---        ┆ ---     ┆ action      │\n",
       "│ str          ┆ str        ┆ str   ┆ str         ┆ f64       ┆ f64        ┆ f64     ┆ ---         │\n",
       "│              ┆            ┆       ┆             ┆           ┆            ┆         ┆ f64         │\n",
       "╞══════════════╪════════════╪═══════╪═════════════╪═══════════╪════════════╪═════════╪═════════════╡\n",
       "│ Haringey     ┆ E09000014  ┆ E09   ┆ April 2014  ┆ 7.27      ┆ 7.63       ┆ 3.0     ┆ 7.38        │\n",
       "│              ┆            ┆       ┆ to March    ┆           ┆            ┆         ┆             │\n",
       "│              ┆            ┆       ┆ 2015        ┆           ┆            ┆         ┆             │\n",
       "│ Sedgemoor    ┆ E07000188  ┆ E07   ┆ April 2012  ┆ 7.04      ┆ 7.76       ┆ 3.46    ┆ 7.64        │\n",
       "│              ┆            ┆       ┆ to March    ┆           ┆            ┆         ┆             │\n",
       "│              ┆            ┆       ┆ 2013        ┆           ┆            ┆         ┆             │\n",
       "│ Windsor and  ┆ E06000040  ┆ E06   ┆ April 2015  ┆ 7.67      ┆ 7.97       ┆ 2.98    ┆ 7.83        │\n",
       "│ Maidenhead   ┆            ┆       ┆ to March    ┆           ┆            ┆         ┆             │\n",
       "│              ┆            ┆       ┆ 2016        ┆           ┆            ┆         ┆             │\n",
       "│ Nuneaton and ┆ E07000219  ┆ E07   ┆ April 2012  ┆ 7.26      ┆ 7.64       ┆ 3.09    ┆ 7.7         │\n",
       "│ Bedworth     ┆            ┆       ┆ to March    ┆           ┆            ┆         ┆             │\n",
       "│              ┆            ┆       ┆ 2013        ┆           ┆            ┆         ┆             │\n",
       "│ Hyndburn     ┆ E07000120  ┆ E07   ┆ April 2018  ┆ 7.89      ┆ 7.73       ┆ 2.7     ┆ 7.99        │\n",
       "│              ┆            ┆       ┆ to March    ┆           ┆            ┆         ┆             │\n",
       "│              ┆            ┆       ┆ 2019        ┆           ┆            ┆         ┆             │\n",
       "└──────────────┴────────────┴───────┴─────────────┴───────────┴────────────┴─────────┴─────────────┘"
      ]
     },
     "execution_count": 20,
     "metadata": {},
     "output_type": "execute_result"
    }
   ],
   "source": [
    "df = df.select(\n",
    "    pl.col(['Area Names', 'Area Codes', 'Zones', 'Time Period', 'Happiness', 'Worthwhile', 'Anxiety', 'Life Satisfaction'])\n",
    ")\n",
    "\n",
    "df.head()"
   ]
  }
 ],
 "metadata": {
  "kernelspec": {
   "display_name": "Python 3 (ipykernel)",
   "language": "python",
   "name": "python3"
  },
  "language_info": {
   "codemirror_mode": {
    "name": "ipython",
    "version": 3
   },
   "file_extension": ".py",
   "mimetype": "text/x-python",
   "name": "python",
   "nbconvert_exporter": "python",
   "pygments_lexer": "ipython3",
   "version": "3.13.0"
  }
 },
 "nbformat": 4,
 "nbformat_minor": 5
}
